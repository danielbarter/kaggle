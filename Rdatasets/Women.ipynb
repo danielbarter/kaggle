{
 "cells": [
  {
   "cell_type": "markdown",
   "metadata": {},
   "source": [
    "Jupyter notebook has evolved slowly over many years (it used to be called Ipython notebook). As a result, there are some weird things like %matplotlib inline. You need to run it before anything else if you want to plot. Currently a major reimplementation of Jupyter notebook is underway called Jupyter Lab. When that comes out, weird things like this will probably go away."
   ]
  },
  {
   "cell_type": "code",
   "execution_count": 1,
   "metadata": {
    "collapsed": false
   },
   "outputs": [],
   "source": [
    "%matplotlib inline"
   ]
  },
  {
   "cell_type": "markdown",
   "metadata": {},
   "source": [
    "This is a list of imports together with their conventional short names. Numpy is an efficent array library. Pandas is a dataframe library (the Python analogue of an excel spreadsheet). Matplotlib.pyplot is the python frontend for matplotlib. Seaborn is a wrapper around Matplotlib.pyplot to make it look a little nicer."
   ]
  },
  {
   "cell_type": "code",
   "execution_count": 2,
   "metadata": {
    "collapsed": false
   },
   "outputs": [],
   "source": [
    "import numpy as np\n",
    "import pandas as pd\n",
    "import matplotlib.pyplot as plt\n",
    "import seaborn as sns"
   ]
  },
  {
   "cell_type": "markdown",
   "metadata": {},
   "source": [
    "reading in a CSV file into a pandas data frame."
   ]
  },
  {
   "cell_type": "code",
   "execution_count": 3,
   "metadata": {
    "collapsed": false
   },
   "outputs": [],
   "source": [
    "data = pd.read_csv(\"./.kaggle_data/Rdatasets/women.csv\").drop(\"Unnamed: 0\",axis=1)"
   ]
  },
  {
   "cell_type": "code",
   "execution_count": 4,
   "metadata": {
    "collapsed": false,
    "scrolled": true
   },
   "outputs": [
    {
     "data": {
      "text/html": [
       "<div>\n",
       "<table border=\"1\" class=\"dataframe\">\n",
       "  <thead>\n",
       "    <tr style=\"text-align: right;\">\n",
       "      <th></th>\n",
       "      <th>height</th>\n",
       "      <th>weight</th>\n",
       "    </tr>\n",
       "  </thead>\n",
       "  <tbody>\n",
       "    <tr>\n",
       "      <th>0</th>\n",
       "      <td>58</td>\n",
       "      <td>115</td>\n",
       "    </tr>\n",
       "    <tr>\n",
       "      <th>1</th>\n",
       "      <td>59</td>\n",
       "      <td>117</td>\n",
       "    </tr>\n",
       "    <tr>\n",
       "      <th>2</th>\n",
       "      <td>60</td>\n",
       "      <td>120</td>\n",
       "    </tr>\n",
       "    <tr>\n",
       "      <th>3</th>\n",
       "      <td>61</td>\n",
       "      <td>123</td>\n",
       "    </tr>\n",
       "    <tr>\n",
       "      <th>4</th>\n",
       "      <td>62</td>\n",
       "      <td>126</td>\n",
       "    </tr>\n",
       "  </tbody>\n",
       "</table>\n",
       "</div>"
      ],
      "text/plain": [
       "   height  weight\n",
       "0      58     115\n",
       "1      59     117\n",
       "2      60     120\n",
       "3      61     123\n",
       "4      62     126"
      ]
     },
     "execution_count": 4,
     "metadata": {},
     "output_type": "execute_result"
    }
   ],
   "source": [
    "data.head()"
   ]
  },
  {
   "cell_type": "markdown",
   "metadata": {},
   "source": [
    "Nothing fancy is required to fit a regression line to data. There is a closed formula for the slope and intercept. However, for more complicated regression problems (like classifying digits from bitmaps), there is no closed formula and the loss function we are trying to minimize might not be convex. In these cases, we can use [gradient descent](https://en.wikipedia.org/wiki/Gradient_descent) to minimize the loss function. One of the most important things to know about gradient descent is that it works best when all of your data is normalized into a small box around the origin. This is because the gradient is not invariant under linear changes of coordinates. The following code just normalizes our data so that gradient descent works better."
   ]
  },
  {
   "cell_type": "code",
   "execution_count": 5,
   "metadata": {
    "collapsed": false
   },
   "outputs": [],
   "source": [
    "height = np.float32(data[\"height\"].values)\n",
    "height_mean = height.mean()\n",
    "height_std = height.std()\n",
    "height_normalized = (height -height_mean) / height_std\n",
    "\n",
    "weight = np.float32(data[\"weight\"].values)\n",
    "weight_mean = weight.mean()\n",
    "weight_std = weight.std()\n",
    "weight_normalized = (weight - weight_mean) / weight_std"
   ]
  },
  {
   "cell_type": "code",
   "execution_count": 6,
   "metadata": {
    "collapsed": false
   },
   "outputs": [
    {
     "data": {
      "image/png": "[encoded data removed]",
      "text/plain": [
       "<matplotlib.figure.Figure at 0x7f80d5fd23c8>"
      ]
     },
     "metadata": {},
     "output_type": "display_data"
    }
   ],
   "source": [
    "plt.scatter(height_normalized,weight_normalized)\n",
    "plt.xlabel(\"normalized hieght\")\n",
    "plt.ylabel(\"normalized weight\")\n",
    "plt.title(\"normalized hieght vs normalized weight\")\n",
    "plt.show()"
   ]
  },
  {
   "cell_type": "markdown",
   "metadata": {},
   "source": [
    "Implementing gradient descent by hand is not very hard, but making it run fast is. Google recently released a library called tensorflow which is designed for doing gradient descent in high dimensional spaces. It is fast, easy to use and will be supported for a long time."
   ]
  },
  {
   "cell_type": "code",
   "execution_count": 7,
   "metadata": {
    "collapsed": false
   },
   "outputs": [],
   "source": [
    "import tensorflow as tf"
   ]
  },
  {
   "cell_type": "code",
   "execution_count": 8,
   "metadata": {
    "collapsed": false
   },
   "outputs": [],
   "source": [
    "linear_regression = tf.Graph()\n",
    "with linear_regression.as_default():\n",
    "    x = tf.placeholder(tf.float32,shape=None)\n",
    "    y_ = tf.placeholder(tf.float32,shape=None)\n",
    "    w = tf.Variable(0.1)\n",
    "    b = tf.Variable(0.0)\n",
    "    y = w * x + b\n",
    "    loss = tf.reduce_mean(tf.square(y - y_))\n",
    "    train_step = tf.train.GradientDescentOptimizer(0.5).minimize(loss)"
   ]
  },
  {
   "cell_type": "code",
   "execution_count": 9,
   "metadata": {
    "collapsed": false
   },
   "outputs": [
    {
     "name": "stdout",
     "output_type": "stream",
     "text": [
      "loss = 0.810901\n",
      "loss = 0.008990\n",
      "loss = 0.008990\n",
      "loss = 0.008990\n",
      "loss = 0.008990\n",
      "slope = 0.995495\n",
      "intercept = -0.000000\n"
     ]
    }
   ],
   "source": [
    "with tf.Session(graph=linear_regression) as session:\n",
    "    tf.initialize_all_variables().run()\n",
    "    feed_dict = {x : height_normalized , y_ : weight_normalized}\n",
    "    for step in range(5):\n",
    "        _,l = session.run([train_step,loss],feed_dict=feed_dict)\n",
    "        print(\"loss = %f\" % l)\n",
    "    slope,intercept = session.run([w,b])\n",
    "    print(\"slope = %f\" % slope)\n",
    "    print(\"intercept = %f\" % intercept)"
   ]
  },
  {
   "cell_type": "code",
   "execution_count": 10,
   "metadata": {
    "collapsed": false
   },
   "outputs": [
    {
     "data": {
      "image/png": "[encoded data removed]",
      "text/plain": [
       "<matplotlib.figure.Figure at 0x7f80cfed3f28>"
      ]
     },
     "metadata": {},
     "output_type": "display_data"
    }
   ],
   "source": [
    "colors = sns.color_palette()\n",
    "plt.scatter(height_normalized,weight_normalized)\n",
    "plt.plot(np.arange(-2,2,0.1),0.995495 * np.arange(-2,2,0.1),color = colors[2])\n",
    "plt.xlabel(\"normalized hieght\")\n",
    "plt.ylabel(\"normalized weight\")\n",
    "plt.xlim(-2,2)\n",
    "plt.title(\"normalized hieght vs normalized weight with regression line\")\n",
    "plt.show()"
   ]
  },
  {
   "cell_type": "code",
   "execution_count": null,
   "metadata": {
    "collapsed": true
   },
   "outputs": [],
   "source": []
  }
 ],
 "metadata": {
  "kernelspec": {
   "display_name": "Python 3",
   "language": "python",
   "name": "python3"
  },
  "language_info": {
   "codemirror_mode": {
    "name": "ipython",
    "version": 3
   },
   "file_extension": ".py",
   "mimetype": "text/x-python",
   "name": "python",
   "nbconvert_exporter": "python",
   "pygments_lexer": "ipython3",
   "version": "3.5.1"
  },
  "widgets": {
   "state": {},
   "version": "1.1.2"
  }
 },
 "nbformat": 4,
 "nbformat_minor": 0
}
