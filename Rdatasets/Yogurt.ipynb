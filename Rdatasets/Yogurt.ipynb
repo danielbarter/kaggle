{
 "cells": [
  {
   "cell_type": "markdown",
   "metadata": {},
   "source": [
    "# Yogurt\n",
    "from the kaggle R data set dump....... Yogurt!"
   ]
  },
  {
   "cell_type": "code",
   "execution_count": 1,
   "metadata": {
    "collapsed": true
   },
   "outputs": [],
   "source": [
    "import pandas as pd\n",
    "import numpy as np\n",
    "import matplotlib.pyplot as plt\n",
    "import seaborn as sns\n",
    "%matplotlib inline"
   ]
  },
  {
   "cell_type": "code",
   "execution_count": 2,
   "metadata": {
    "collapsed": false
   },
   "outputs": [
    {
     "data": {
      "text/plain": [
       "(2412, 10)"
      ]
     },
     "execution_count": 2,
     "metadata": {},
     "output_type": "execute_result"
    }
   ],
   "source": [
    "Yogurt = pd.read_csv(\"./.kaggle_data/Rdatasets/Yogurt.csv\").drop(\"Unnamed: 0\",axis=1)\n",
    "Yogurt.shape"
   ]
  },
  {
   "cell_type": "code",
   "execution_count": 3,
   "metadata": {
    "collapsed": false
   },
   "outputs": [
    {
     "data": {
      "text/html": [
       "<div>\n",
       "<table border=\"1\" class=\"dataframe\">\n",
       "  <thead>\n",
       "    <tr style=\"text-align: right;\">\n",
       "      <th></th>\n",
       "      <th>id</th>\n",
       "      <th>feat.yoplait</th>\n",
       "      <th>feat.dannon</th>\n",
       "      <th>feat.hiland</th>\n",
       "      <th>feat.weight</th>\n",
       "      <th>price.yoplait</th>\n",
       "      <th>price.dannon</th>\n",
       "      <th>price.hiland</th>\n",
       "      <th>price.weight</th>\n",
       "      <th>choice</th>\n",
       "    </tr>\n",
       "  </thead>\n",
       "  <tbody>\n",
       "    <tr>\n",
       "      <th>0</th>\n",
       "      <td>1</td>\n",
       "      <td>0</td>\n",
       "      <td>0</td>\n",
       "      <td>0</td>\n",
       "      <td>0</td>\n",
       "      <td>10.8</td>\n",
       "      <td>8.1</td>\n",
       "      <td>6.1</td>\n",
       "      <td>7.9</td>\n",
       "      <td>weight</td>\n",
       "    </tr>\n",
       "    <tr>\n",
       "      <th>1</th>\n",
       "      <td>1</td>\n",
       "      <td>0</td>\n",
       "      <td>0</td>\n",
       "      <td>0</td>\n",
       "      <td>0</td>\n",
       "      <td>10.8</td>\n",
       "      <td>9.8</td>\n",
       "      <td>6.4</td>\n",
       "      <td>7.5</td>\n",
       "      <td>dannon</td>\n",
       "    </tr>\n",
       "    <tr>\n",
       "      <th>2</th>\n",
       "      <td>1</td>\n",
       "      <td>0</td>\n",
       "      <td>0</td>\n",
       "      <td>0</td>\n",
       "      <td>0</td>\n",
       "      <td>10.8</td>\n",
       "      <td>9.8</td>\n",
       "      <td>6.1</td>\n",
       "      <td>8.6</td>\n",
       "      <td>dannon</td>\n",
       "    </tr>\n",
       "    <tr>\n",
       "      <th>3</th>\n",
       "      <td>1</td>\n",
       "      <td>0</td>\n",
       "      <td>0</td>\n",
       "      <td>0</td>\n",
       "      <td>0</td>\n",
       "      <td>10.8</td>\n",
       "      <td>9.8</td>\n",
       "      <td>6.1</td>\n",
       "      <td>8.6</td>\n",
       "      <td>dannon</td>\n",
       "    </tr>\n",
       "    <tr>\n",
       "      <th>4</th>\n",
       "      <td>1</td>\n",
       "      <td>0</td>\n",
       "      <td>0</td>\n",
       "      <td>0</td>\n",
       "      <td>0</td>\n",
       "      <td>12.5</td>\n",
       "      <td>9.8</td>\n",
       "      <td>4.9</td>\n",
       "      <td>7.9</td>\n",
       "      <td>dannon</td>\n",
       "    </tr>\n",
       "    <tr>\n",
       "      <th>5</th>\n",
       "      <td>1</td>\n",
       "      <td>0</td>\n",
       "      <td>0</td>\n",
       "      <td>0</td>\n",
       "      <td>0</td>\n",
       "      <td>10.8</td>\n",
       "      <td>9.2</td>\n",
       "      <td>5.0</td>\n",
       "      <td>7.9</td>\n",
       "      <td>dannon</td>\n",
       "    </tr>\n",
       "    <tr>\n",
       "      <th>6</th>\n",
       "      <td>1</td>\n",
       "      <td>0</td>\n",
       "      <td>0</td>\n",
       "      <td>0</td>\n",
       "      <td>0</td>\n",
       "      <td>10.3</td>\n",
       "      <td>8.1</td>\n",
       "      <td>4.9</td>\n",
       "      <td>7.9</td>\n",
       "      <td>dannon</td>\n",
       "    </tr>\n",
       "    <tr>\n",
       "      <th>7</th>\n",
       "      <td>1</td>\n",
       "      <td>0</td>\n",
       "      <td>0</td>\n",
       "      <td>0</td>\n",
       "      <td>0</td>\n",
       "      <td>10.8</td>\n",
       "      <td>8.6</td>\n",
       "      <td>5.4</td>\n",
       "      <td>7.9</td>\n",
       "      <td>weight</td>\n",
       "    </tr>\n",
       "    <tr>\n",
       "      <th>8</th>\n",
       "      <td>2</td>\n",
       "      <td>0</td>\n",
       "      <td>0</td>\n",
       "      <td>0</td>\n",
       "      <td>0</td>\n",
       "      <td>10.8</td>\n",
       "      <td>9.8</td>\n",
       "      <td>5.0</td>\n",
       "      <td>7.9</td>\n",
       "      <td>yoplait</td>\n",
       "    </tr>\n",
       "    <tr>\n",
       "      <th>9</th>\n",
       "      <td>2</td>\n",
       "      <td>0</td>\n",
       "      <td>0</td>\n",
       "      <td>0</td>\n",
       "      <td>0</td>\n",
       "      <td>10.8</td>\n",
       "      <td>9.8</td>\n",
       "      <td>5.0</td>\n",
       "      <td>7.9</td>\n",
       "      <td>yoplait</td>\n",
       "    </tr>\n",
       "  </tbody>\n",
       "</table>\n",
       "</div>"
      ],
      "text/plain": [
       "   id  feat.yoplait  feat.dannon  feat.hiland  feat.weight  price.yoplait  \\\n",
       "0   1             0            0            0            0           10.8   \n",
       "1   1             0            0            0            0           10.8   \n",
       "2   1             0            0            0            0           10.8   \n",
       "3   1             0            0            0            0           10.8   \n",
       "4   1             0            0            0            0           12.5   \n",
       "5   1             0            0            0            0           10.8   \n",
       "6   1             0            0            0            0           10.3   \n",
       "7   1             0            0            0            0           10.8   \n",
       "8   2             0            0            0            0           10.8   \n",
       "9   2             0            0            0            0           10.8   \n",
       "\n",
       "   price.dannon  price.hiland  price.weight   choice  \n",
       "0           8.1           6.1           7.9   weight  \n",
       "1           9.8           6.4           7.5   dannon  \n",
       "2           9.8           6.1           8.6   dannon  \n",
       "3           9.8           6.1           8.6   dannon  \n",
       "4           9.8           4.9           7.9   dannon  \n",
       "5           9.2           5.0           7.9   dannon  \n",
       "6           8.1           4.9           7.9   dannon  \n",
       "7           8.6           5.4           7.9   weight  \n",
       "8           9.8           5.0           7.9  yoplait  \n",
       "9           9.8           5.0           7.9  yoplait  "
      ]
     },
     "execution_count": 3,
     "metadata": {},
     "output_type": "execute_result"
    }
   ],
   "source": [
    "Yogurt.head(n=10)"
   ]
  },
  {
   "cell_type": "code",
   "execution_count": 4,
   "metadata": {
    "collapsed": false
   },
   "outputs": [
    {
     "data": {
      "image/png": "[encoded data removed]",
      "text/plain": [
       "<matplotlib.figure.Figure at 0x7f7367e2d668>"
      ]
     },
     "metadata": {},
     "output_type": "display_data"
    }
   ],
   "source": [
    "plt.hist(Yogurt[\"id\"],bins=100,color='grey')\n",
    "plt.title(\"histogram of id\")\n",
    "plt.xlabel(\"id\")\n",
    "plt.ylabel(\"frequency\")\n",
    "plt.show()"
   ]
  },
  {
   "cell_type": "code",
   "execution_count": 14,
   "metadata": {
    "collapsed": false
   },
   "outputs": [
    {
     "data": {
      "image/png": "[encoded data removed]",
      "text/plain": [
       "<matplotlib.figure.Figure at 0x7f73657e7908>"
      ]
     },
     "metadata": {},
     "output_type": "display_data"
    }
   ],
   "source": [
    "colors = sns.color_palette()\n",
    "f, ax = plt.subplots(2,2,figsize=(10, 5))\n",
    "ax[0,0].hist(Yogurt[\"price.dannon\"],color=colors[0])\n",
    "ax[0,0].set_title(\"Dannon Price\")\n",
    "ax[0,1].hist(Yogurt[\"price.hiland\"],color=colors[1])\n",
    "ax[0,1].set_title(\"Hiland Price\")\n",
    "ax[1,0].hist(Yogurt[\"price.weight\"],color=colors[2])\n",
    "ax[1,0].set_title(\"Weight Price\")\n",
    "ax[1,1].hist(Yogurt[\"price.yoplait\"],color=colors[3])\n",
    "ax[1,1].set_title(\"Yoplait Price\")\n",
    "f.tight_layout()\n",
    "plt.show()"
   ]
  },
  {
   "cell_type": "markdown",
   "metadata": {},
   "source": [
    "### Description of data set\n",
    "\n",
    "The CSV file does not come with a description, but everything seems pretty self explanitory. Hopefully the following is correct......\n",
    "\n",
    "- id identifies a customer\n",
    "- feat.brand tells you if the brand of yougurt is being featured or not\n",
    "- price.brand tells you the current price of the yogurt\n",
    "- choice tells you what was purchased.\n",
    "\n",
    "there are a lot of questions to ask here: \n",
    "\n",
    "- do some brands sell more than others?\n",
    "- brand loyalty. Do specific customers prefer a specific brand? Can price or feature make them change there mind?\n",
    "- if a brand is being featured, do more people buy it?\n",
    "- if a brand is cheap/expensive, do more people buy it?\n",
    "- how do featuring and price interact?"
   ]
  },
  {
   "cell_type": "markdown",
   "metadata": {},
   "source": [
    "### Do some brands sell more than others?"
   ]
  },
  {
   "cell_type": "code",
   "execution_count": 15,
   "metadata": {
    "collapsed": false
   },
   "outputs": [
    {
     "data": {
      "image/png": "[encoded data removed]",
      "text/plain": [
       "<matplotlib.figure.Figure at 0x7f7364e113c8>"
      ]
     },
     "metadata": {},
     "output_type": "display_data"
    }
   ],
   "source": [
    "x = np.transpose(np.stack(np.unique(Yogurt[\"choice\"],return_counts=True)))\n",
    "\n",
    "brands = x[:,0].tolist()\n",
    "num_purchases = x[:,1].tolist()\n",
    "\n",
    "median_price = np.array([Yogurt[\"price.dannon\"].median(),\n",
    "                         Yogurt[\"price.hiland\"].median(),\n",
    "                         Yogurt[\"price.weight\"].median(),\n",
    "                         Yogurt[\"price.yoplait\"].median()])\n",
    "\n",
    "average_price = np.array([Yogurt[\"price.dannon\"].mean(),\n",
    "                          Yogurt[\"price.hiland\"].mean(),\n",
    "                          Yogurt[\"price.weight\"].mean(),\n",
    "                          Yogurt[\"price.yoplait\"].mean()])\n",
    "\n",
    "xticks = [0,1,2,3]\n",
    "\n",
    "colors = sns.color_palette()\n",
    "\n",
    "f, ax = plt.subplots(1,3,figsize=(15, 5))\n",
    "ax[0].bar(xticks,num_purchases,align='center',color=colors)\n",
    "ax[0].set_xticks(xticks)\n",
    "ax[0].set_xticklabels(brands)\n",
    "ax[0].set_ylabel(\"number of sales\")\n",
    "ax[0].set_title(\"number of sales\")\n",
    "ax[1].bar(xticks,median_price,align='center',color=colors)\n",
    "ax[1].set_title(\"median price\")\n",
    "ax[1].set_ylabel(\"dollars\")\n",
    "ax[1].set_xticks(xticks)\n",
    "ax[1].set_xticklabels(brands)\n",
    "ax[2].bar(xticks,average_price,align='center',color=colors)\n",
    "ax[2].set_title(\"average price\")\n",
    "ax[2].set_ylabel(\"dollars\")\n",
    "ax[2].set_xticks(xticks)\n",
    "ax[2].set_xticklabels(brands)\n",
    "plt.show()"
   ]
  },
  {
   "cell_type": "markdown",
   "metadata": {},
   "source": [
    "The most popular yogurt is Dannon. The least popular (and least expensive) is Hiland."
   ]
  },
  {
   "cell_type": "markdown",
   "metadata": {},
   "source": [
    "### Do customers prefer a specific brand?"
   ]
  },
  {
   "cell_type": "code",
   "execution_count": 69,
   "metadata": {
    "collapsed": false
   },
   "outputs": [],
   "source": [
    "def customer(n): return Yogurt[Yogurt[\"id\"] == n]\n",
    "def number_of_purchases(n,yogurt): return (customer(n)[\"choice\"] == yogurt).sum()\n",
    "def customer_purchase_bar(n): return [number_of_purchases(n,yogurt) for yogurt in brands]\n",
    "def customer_to_grid(n): return [(i,j) for i in range(10) for j in range(10)][n]"
   ]
  },
  {
   "cell_type": "code",
   "execution_count": 100,
   "metadata": {
    "collapsed": false
   },
   "outputs": [
    {
     "data": {
      "image/png": "[encoded data removed]",
      "text/plain": [
       "<matplotlib.figure.Figure at 0x7f736332d7f0>"
      ]
     },
     "metadata": {},
     "output_type": "display_data"
    }
   ],
   "source": [
    "f, ax = plt.subplots(10,10,figsize=(25, 20),sharex=True)\n",
    "f.tight_layout()\n",
    "for n in range(100):\n",
    "    i = customer_to_grid(n)[0]\n",
    "    j = customer_to_grid(n)[1]\n",
    "    ax[i,j].bar(xticks,customer_purchase_bar(n+1),align='center',color=colors)\n",
    "    ax[i,j].set_xticks([])\n",
    "    ax[i,j].set_yticks([])\n",
    "plt.show()"
   ]
  },
  {
   "cell_type": "markdown",
   "metadata": {},
   "source": [
    "The barplots in this diagram are normalized. This is necessary because some customers purchase a lot more yogurt than others. The colors are as before: \n",
    "\n",
    "- blue = dannon\n",
    "- green = hiland\n",
    "- red = weight\n",
    "- purple = yoplait"
   ]
  },
  {
   "cell_type": "code",
   "execution_count": null,
   "metadata": {
    "collapsed": true
   },
   "outputs": [],
   "source": []
  }
 ],
 "metadata": {
  "kernelspec": {
   "display_name": "Python 3",
   "language": "python",
   "name": "python3"
  },
  "language_info": {
   "codemirror_mode": {
    "name": "ipython",
    "version": 3
   },
   "file_extension": ".py",
   "mimetype": "text/x-python",
   "name": "python",
   "nbconvert_exporter": "python",
   "pygments_lexer": "ipython3",
   "version": "3.5.1"
  },
  "widgets": {
   "state": {},
   "version": "1.1.1"
  }
 },
 "nbformat": 4,
 "nbformat_minor": 0
}
