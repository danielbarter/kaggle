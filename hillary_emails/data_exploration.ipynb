{
 "cells": [
  {
   "cell_type": "code",
   "execution_count": 1,
   "metadata": {
    "collapsed": false
   },
   "outputs": [],
   "source": [
    "import pandas as pd\n",
    "import numpy as np\n",
    "import matplotlib.pyplot as plt\n",
    "import seaborn as sns\n",
    "%matplotlib inline"
   ]
  },
  {
   "cell_type": "code",
   "execution_count": 2,
   "metadata": {
    "collapsed": false
   },
   "outputs": [],
   "source": [
    "Aliases = pd.read_csv(\"./.kaggle_data/output/Aliases.csv\")\n",
    "EmailReceivers = pd.read_csv(\"./.kaggle_data/output/EmailReceivers.csv\")\n",
    "Emails = pd.read_csv(\"./.kaggle_data/output/Emails.csv\")\n",
    "Persons = pd.read_csv(\"./.kaggle_data/output/Persons.csv\")"
   ]
  },
  {
   "cell_type": "code",
   "execution_count": 3,
   "metadata": {
    "collapsed": false
   },
   "outputs": [],
   "source": [
    "#Emails.head()\n",
    "#released_in_part_or_full = np.unique(Emails[\"ExtractedReleaseInPartOrFull\"].values,return_counts=True)\n",
    "#Emails[\"RawText\"][1].split('\\n')\n",
    "#np.unique(Emails[\"SenderPersonId\"].values,return_counts=True)"
   ]
  },
  {
   "cell_type": "code",
   "execution_count": null,
   "metadata": {
    "collapsed": true
   },
   "outputs": [],
   "source": []
  }
 ],
 "metadata": {
  "kernelspec": {
   "display_name": "Python 3",
   "language": "python",
   "name": "python3"
  },
  "language_info": {
   "codemirror_mode": {
    "name": "ipython",
    "version": 3
   },
   "file_extension": ".py",
   "mimetype": "text/x-python",
   "name": "python",
   "nbconvert_exporter": "python",
   "pygments_lexer": "ipython3",
   "version": "3.5.1"
  },
  "widgets": {
   "state": {},
   "version": "1.1.1"
  }
 },
 "nbformat": 4,
 "nbformat_minor": 0
}
